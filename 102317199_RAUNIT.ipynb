#q1
print("Hello")

#q2.1
num1 = 5
num2 = 3
result = num1 + num2
print(result)

#q2.2
str1 = "Hello"
str2 = "World"
result = str1 + " " + str2
print(result)

#q2.3
str1 = "The number is "
num = 10
result = str1 + str(num)
print(result)

#q3.1
num = 5  

if num > 0:
    print("Positive")
elif num < 0:
    print("Negative")
else:
    print("Zero")

#q3.2
num = 7  

if num % 2 == 0:
    print("Even")
else:
    print("Odd")

    #q4.1
    for i in range(1, 11):
    print(i)


#q4.2
i = 1
while i <= 10:
    print(i)
    i += 1

#q4.3
total = 0
for i in range(1, 101):
    total += i
print(total)

#q5.1
numbers = [5, 12, 3, 9, 7]
largest = max(numbers)
smallest = min(numbers)
print("Largest:", largest)
print("Smallest:", smallest)

#q5.2
my_dict = {'name': 'John', 'age': 25, 'city': 'New York'}
key = 'age'
value = my_dict.get(key)
print(f"Value of '{key}':", value)

#q5.3
numbers = [7, 2, 9, 1, 5]
ascending = sorted(numbers)
descending = sorted(numbers, reverse=True)
print("Ascending:", ascending)
print("Descending:", descending)

#q5.4
dict1 = {'a': 1, 'b': 2}
dict2 = {'c': 3, 'd': 4}
merged_dict = {**dict1, **dict2}
print("Merged Dictionary:", merged_dict)

#q6.1
string = "Hello World"
vowels = "aeiouAEIOU"
count = sum(1 for char in string if char in vowels)
print("Number of vowels:", count)

#q6.2
string = "Hello World"
reversed_string = string[::-1]
print("Reversed string:", reversed_string)

#q6.3
string = "madam"
if string == string[::-1]:
    print("Palindrome")
else:
    print("Not a palindrome")

    #q7.1
    # Creating and writing to the file
with open("example.txt", "w") as file:
    file.write("Hello, this is a test file.\nThis is the second line.")

# Reading the content of the file
with open("example.txt", "r") as file:
    content = file.read()
    print(content)

#q7.2
# Appending text to the file
with open("example.txt", "a") as file:
    file.write("\nThis is an appended line.")

# Reading and printing the updated content
with open("example.txt", "r") as file:
    content = file.read()
    print(content)

#q7.3
# Counting the number of lines in the file
with open("example.txt", "r") as file:
    lines = file.readlines()
    print("Number of lines:", len(lines))

#q8.1
   try:
    num1 = 10
    num2 = 0
    result = num1 / num2
except ZeroDivisionError:
    print("Error: Cannot divide by zero.")

#q8.2
  try:
    num = int(input("Enter a number: "))
except ValueError:
    print("Error: Invalid input. Please enter a valid number.")

#q8.3
try:
    num1 = 10
    num2 = 2
    result = num1 / num2
    print("Result:", result)
except ZeroDivisionError:
    print("Error: Cannot divide by zero.")
finally:
    print("This will always execute, regardless of an exception.")

#q9.1
import random

random_numbers = [random.randint(1, 100) for _ in range(5)]
print(random_numbers)

#q9.2
import random

num = random.randint(1, 100)

def is_prime(n):
    if n <= 1:
        return False
    for i in range(2, int(n ** 0.5) + 1):
        if n % i == 0:
            return False
    return True

if is_prime(num):
    print(f"{num} is prime.")
else:
    print(f"{num} is not prime.")

    #q9.3
    import random

roll = random.randint(1, 6)
print(f"Rolled a die: {roll}")

#q9.4
import random

numbers = [1, 2, 3, 4, 5]
random.shuffle(numbers)
print("Shuffled list:", numbers)

#q9.5
import random

items = ["apple", "banana", "cherry", "date"]
selected_item = random.choice(items)
print("Selected item:", selected_item)

#q9.6
import random
import string

def generate_password(length):
    password = ''.join(random.choices(string.ascii_letters + string.digits, k=length))
    return password

password = generate_password(8)  # Example: 8-character password
print("Generated password:", password)

#q9.7
import random

suits = ['Hearts', 'Diamonds', 'Clubs', 'Spades']
ranks = ['2', '3', '4', '5', '6', '7', '8', '9', '10', 'J', 'Q', 'K', 'A']
deck = [f"{rank} of {suit}" for suit in suits for rank in ranks]

random_card = random.choice(deck)
print("Random card:", random_card)

#q10.1
import sys


num1 = float(sys.argv[1])
num2 = float(sys.argv[2])


result = num1 + num2


print("The sum is:", result)

#q10.2
import sys


input_string = sys.argv[1]


print("The length of the string is:", len(input_string))

#q11.1
import math


number = float(input("Enter a number: "))


sqrt_value = math.sqrt(number)


print(f"The square root of {number} is: {sqrt_value}")

#q11.2
import datetime


current_datetime = datetime.datetime.now()


print("Current date and time:", current_datetime)

#q11.3
import os


files = os.listdir()


print("Files in the current directory:")
for file in files:
    print(file)